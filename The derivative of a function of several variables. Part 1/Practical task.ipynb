{
 "cells": [
  {
   "cell_type": "markdown",
   "metadata": {},
   "source": [
    "### Найти частные производные первого и второго порядка. Убедиться в равенстве смешанных производных."
   ]
  },
  {
   "cell_type": "markdown",
   "metadata": {},
   "source": [
    "1. $U = x^3 + 3xy^2+z^2−39x−36y+2z+26$"
   ]
  },
  {
   "cell_type": "markdown",
   "metadata": {},
   "source": [
    "$U'_x = 3x^2 + 3y^2 - 39$\n",
    "\n",
    "$U'_y = 6xy - 36$\n",
    "\n",
    "$U'_z = 2z + 2$"
   ]
  },
  {
   "cell_type": "markdown",
   "metadata": {},
   "source": [
    "$U''_{xx} = 6x$\n",
    "\n",
    "$U''_{yy} = 6$\n",
    "\n",
    "$U''_{zz} = 2$"
   ]
  },
  {
   "cell_type": "markdown",
   "metadata": {},
   "source": [
    "$U''_{xy} = 6y;\\ U''_{yx} = 6y$\n",
    "\n",
    "$U''_{xz} = 0;\\ U''_{zx} = 0$\n",
    "\n",
    "$U''_{yz} = 0;\\ U''_{zy} = 0$"
   ]
  },
  {
   "cell_type": "markdown",
   "metadata": {},
   "source": [
    "2. $U = \\cfrac{256}{x} + \\cfrac{x^2}{y} + \\cfrac{y^2}{z} + z^2$"
   ]
  },
  {
   "cell_type": "markdown",
   "metadata": {},
   "source": [
    "$\n",
    "U'_x = 256 + \\cfrac{2x}{y} \\\\\n",
    "U'_y = x^2 + \\cfrac{2y}{z} \\\\\n",
    "U'_z = y^2 + 2z\n",
    "$"
   ]
  },
  {
   "cell_type": "markdown",
   "metadata": {},
   "source": [
    "$U''_{xx} = \\cfrac{2}{y}$\n",
    "\n",
    "$U''_{yy} = \\cfrac{2}{z}$\n",
    "\n",
    "$U''_{zz} = 2$"
   ]
  },
  {
   "cell_type": "markdown",
   "metadata": {},
   "source": [
    "$\n",
    "U''_{xy} = 2x;\\ U''_{yx} = 2x \\\\\n",
    "U''_{xz} = 0;\\ U''_{zx} = 0 \\\\\n",
    "U''_{yz} = 2y;\\ U''_{zy} = 2y\n",
    "$"
   ]
  },
  {
   "cell_type": "markdown",
   "metadata": {},
   "source": [
    "3. Найти производную функции $U = x^2 + y^2 + z^2$  по направлению вектора  $\\vec{c}(−9,8,−12)$  в точке  $M(8,−12,9)$"
   ]
  },
  {
   "cell_type": "markdown",
   "metadata": {},
   "source": [
    "$U'_x = 2x;\\ U'_y = 2y;\\ U'_z = 2z$"
   ]
  },
  {
   "cell_type": "markdown",
   "metadata": {},
   "source": [
    "$grad{U} = (16, -24, 18)$"
   ]
  },
  {
   "cell_type": "markdown",
   "metadata": {},
   "source": [
    "$|\\vec{c}| = \\sqrt{81 + 64 + 144} = 17$"
   ]
  },
  {
   "cell_type": "markdown",
   "metadata": {},
   "source": [
    "$\\vec{c_0} = \\left( -\\cfrac{9}{17}, \\cfrac{8}{17}, -\\cfrac{12}{17} \\right)$"
   ]
  },
  {
   "cell_type": "markdown",
   "metadata": {},
   "source": [
    "$U'_{\\vec{c}} = -\\cfrac{144}{17} -\\cfrac{192}{17} -\\cfrac{216}{17} = -\\cfrac{552}{17}$"
   ]
  },
  {
   "cell_type": "markdown",
   "metadata": {},
   "source": [
    "4.  Найти производную функции  $U=e^{x^2+y^2+z^2}$  по направлению вектора  $\\vec{c}(4,−13,−16)$  в точке  $L(−16,4,−13)$"
   ]
  },
  {
   "cell_type": "markdown",
   "metadata": {},
   "source": [
    "$U'_x = e^{2x}$\n",
    "\n",
    "$U'_y = e^{2y}$\n",
    "\n",
    "$U'_z = e^{2z}$"
   ]
  },
  {
   "cell_type": "markdown",
   "metadata": {},
   "source": [
    "$gradU = (e^{-32},\\ e^{8},\\ e^{-26})$"
   ]
  },
  {
   "cell_type": "markdown",
   "metadata": {},
   "source": [
    "$|\\vec{c}| = \\sqrt{16 + 169 + 256} = 21$"
   ]
  },
  {
   "cell_type": "markdown",
   "metadata": {},
   "source": [
    "$\\vec{c_0} = \\left( \\cfrac{4}{21},\\ -\\cfrac{13}{21},\\ -\\cfrac{16}{21} \\right)$"
   ]
  },
  {
   "cell_type": "markdown",
   "metadata": {},
   "source": [
    "$U'_{\\vec{c}} = \\cfrac{4e^{-32} - 13e^{8} - 16e^{-26}}{21} = \\cfrac{1}{4e^{32}} - \\cfrac{13e^{8}}{21} - \\cfrac{1}{16e^{26}}$"
   ]
  },
  {
   "cell_type": "markdown",
   "metadata": {},
   "source": [
    "5*. Найти производную функции  $U=\\log_{21}(x^2+y^2+z^2)$  в точке  $F(−19,8,−4)$  по самому быстрому направлению."
   ]
  },
  {
   "cell_type": "markdown",
   "metadata": {},
   "source": [
    "$\n",
    "U'_x = \\log_{21}2x \\\\\n",
    "U'_y = \\log_{21}2y \\\\\n",
    "U'_z = \\log_{21}2z \\\\\n",
    "$"
   ]
  },
  {
   "cell_type": "markdown",
   "metadata": {},
   "source": [
    "$gradU = \\left( \\log_{21}-38,\\ \\log_{21}16,\\ \\log_{21}-8 \\right)$"
   ]
  },
  {
   "cell_type": "markdown",
   "metadata": {},
   "source": [
    "$|gradU| = \\sqrt{(\\log_{21}-38)^2 + (\\log_{21}16)^2 + (\\log_{21}-8)^2} = \\sqrt{\\log_{21}(-38 * 16 * -8)} = \\sqrt{\\log_{21}4864}$"
   ]
  },
  {
   "cell_type": "markdown",
   "metadata": {},
   "source": [
    "$gradU_0 = \\left( \\cfrac{\\log_{21}-38}{\\sqrt{\\log_{21}4864}}, \\cfrac{\\log_{21}16}{\\sqrt{\\log_{21}4864}}, \\cfrac{\\log_{21}-8}{\\sqrt{\\log_{21}4864}} \\right)$"
   ]
  },
  {
   "cell_type": "markdown",
   "metadata": {},
   "source": [
    "$U'_{gradU} = \\cfrac{\\log_{21}4864}{\\sqrt{\\log_{21}4864}}$"
   ]
  },
  {
   "cell_type": "markdown",
   "metadata": {},
   "source": [
    "6. Исследовать на экстремум функцию:\n",
    "$U = x^2y + \\cfrac{1}{3}y^3 + 2x^2 + 3y^2 − 1$"
   ]
  },
  {
   "cell_type": "markdown",
   "metadata": {},
   "source": [
    "$\n",
    "\\begin{cases}\n",
    "U'_x = 2xy + 4x = 0 \\\\\n",
    "U'_y = x^2 + y^2 + 6y = 0\n",
    "\\end{cases}\n",
    "$"
   ]
  },
  {
   "cell_type": "markdown",
   "metadata": {},
   "source": [
    "$\n",
    "U''_{xx} = 2y + 4 \\\\\n",
    "U''_{yy} = 2y + 6 \\\\\n",
    "U''_{xy} = U''_{yx} = 2x\n",
    "$"
   ]
  },
  {
   "cell_type": "markdown",
   "metadata": {},
   "source": [
    "$\n",
    "\\begin{pmatrix}\n",
    "4 & 0 \\\\\n",
    "0 & 6\n",
    "\\end{pmatrix}\n",
    "$"
   ]
  },
  {
   "cell_type": "markdown",
   "metadata": {},
   "source": [
    "$\n",
    "\\Delta_1 = U''_{xx} = 4 > 0 \\\\\n",
    "\\Delta_2 = \n",
    "\\begin{vmatrix}\n",
    "U''_{xx} & U''_{xy} \\\\\n",
    "U''_{yx} & U''_{yy} \\\\\n",
    "\\end{vmatrix} = 4 * 6 - 0 = 24 > 0\n",
    "$"
   ]
  },
  {
   "cell_type": "markdown",
   "metadata": {},
   "source": [
    "(0, 0) - точка минимума"
   ]
  },
  {
   "cell_type": "markdown",
   "metadata": {},
   "source": [
    "7*. Исследовать на экстремум функцию: $U = e^{-\\frac{x}{2}} * (x^2 + y^2)$"
   ]
  },
  {
   "cell_type": "markdown",
   "metadata": {},
   "source": [
    "$\n",
    "\\begin{cases}\n",
    "U'_x = e^{-\\frac{1}{2}}*(2x + y^2) \\\\\n",
    "U'_y = 2ye^{-\\frac{x}{2}}\n",
    "\\end{cases}\n",
    "$"
   ]
  },
  {
   "cell_type": "code",
   "execution_count": null,
   "metadata": {},
   "outputs": [],
   "source": []
  }
 ],
 "metadata": {
  "kernelspec": {
   "display_name": "Python 3",
   "language": "python",
   "name": "python3"
  },
  "language_info": {
   "codemirror_mode": {
    "name": "ipython",
    "version": 3
   },
   "file_extension": ".py",
   "mimetype": "text/x-python",
   "name": "python",
   "nbconvert_exporter": "python",
   "pygments_lexer": "ipython3",
   "version": "3.7.4"
  }
 },
 "nbformat": 4,
 "nbformat_minor": 2
}
