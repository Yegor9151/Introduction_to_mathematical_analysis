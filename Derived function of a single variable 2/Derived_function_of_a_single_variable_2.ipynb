{
 "cells": [
  {
   "cell_type": "markdown",
   "metadata": {},
   "source": [
    "#### Найти производную $y'_x$  функции:"
   ]
  },
  {
   "cell_type": "markdown",
   "metadata": {},
   "source": [
    "1. $\\arctan \\left( \\frac{y}{x} \\right) = \\ln \\sqrt{x^2 + y^2}$\n",
    "\n",
    "$\\cfrac{y'}{1+(\\frac{y}{x})^2} = \\cfrac{y'}{\\sqrt{x^2+y^2}}$"
   ]
  },
  {
   "cell_type": "markdown",
   "metadata": {},
   "source": [
    "2. $\\begin{cases}\n",
    "        y = \\cfrac{t^2}{t-1} \\\\\n",
    "        x = \\cfrac{t}{t^2-1}\n",
    "    \\end{cases}$\n",
    "    \n",
    "$y'_x = -\\cfrac{1}{2t^2}$"
   ]
  },
  {
   "cell_type": "markdown",
   "metadata": {},
   "source": [
    "3. $y = (x^2 + 2)^5 * (3x - x^3)^3$\n",
    "\n",
    "$y' = (x^2 + 2)^5 * (3x - x^3)^3 * \\cfrac{5}{x^2 + 2} + \\cfrac{3}{3x + x^3}$"
   ]
  },
  {
   "cell_type": "markdown",
   "metadata": {},
   "source": [
    "4. $y = x^x$\n",
    "\n",
    "$y' = x^x * \\cfrac{x}{x} $\n",
    "\n",
    "$y' = x^x$"
   ]
  },
  {
   "cell_type": "markdown",
   "metadata": {},
   "source": [
    "5. $y = \\cfrac{(2 - x^2)^3 * (x - 1)^2}{(2x^3 - 3x) * e^x}$\n",
    "\n",
    "$y' = \\cfrac{(2 - x^2)^3 * (x - 1)^2}{(2x^3 - 3x) * e^x} * \\cfrac{3}{2-x^2} + \\cfrac{2}{x-1} - \\cfrac{1}{2x^2 - 3x} + \\cfrac{x}{e}$"
   ]
  },
  {
   "cell_type": "markdown",
   "metadata": {},
   "source": [
    "#### 6*. Вывести табличное значение производной для функции\n",
    "$\\arctan{(x)} = \\cfrac{1}{1+x^2}$"
   ]
  },
  {
   "cell_type": "markdown",
   "metadata": {},
   "source": [
    "#### 7. Найти длину  x  и ширину  y  прямоугольника при заданном периметре  P=144  cм, при которых данный прямоугольник имеет наибольшую площадь  S.\n",
    "\n",
    "Зная, что наибольшее произведение 2х множителей возможно при перемножении наибольших чисел:\n",
    "\n",
    "1) узнам максимально возможные стороны черытёх угольника: 144 / 4 = 36 - это сторона квадрата\n",
    "\n",
    "2) учитывая то, что ищем стороны прямоугольника берём 2 стороны, к одной прибавляем 1: 36 + 1 = 37, у второй вычитаем 1: 36 - 1 = 35\n",
    "\n",
    "3) при перемножении 2х сторон получаем число 37 * 35 = 1295 - это наибольший периметр прямоугольника\n",
    "\n",
    "Проверяем на питоне путём перебора:"
   ]
  },
  {
   "cell_type": "code",
   "execution_count": 4,
   "metadata": {},
   "outputs": [
    {
     "name": "stdout",
     "output_type": "stream",
     "text": [
      "При максимальнйо S = 1295.0, длина x = 35.0, ширина y = 37.0\n"
     ]
    }
   ],
   "source": [
    "import numpy as np\n",
    "\n",
    "P = 144\n",
    "half = P/2\n",
    "Sr, x, y = 0, 0, 0\n",
    "\n",
    "for a in np.arange(1, half+1):\n",
    "    b = half - a\n",
    "    S = a*b\n",
    "    if Sr < S and a != b:\n",
    "        Sr, x, y = S, a, b\n",
    "                \n",
    "print(f'При максимальнйо S = {Sr}, длина x = {x}, ширина y = {y}')"
   ]
  },
  {
   "cell_type": "markdown",
   "metadata": {},
   "source": [
    "#### 8*. Завод  A  отстоит от железной дороги, идущей с юга на север и проходящей через  B , считая по кратчайшему расстоянию на  a  км. Под каким углом  α  к железной дороге следует ппостроить подъезной путь от завода, чтобы транспортировка грузов из  A  в  B  была наиболее экономичной, если стоимость провоза тонны груза на расстоянии  1  км составляет: по подъезному пути  p  рублей, по железной дороге  q  рублей  (p>q)  и город  B  расположен на  b  км севернее завода  A ."
   ]
  },
  {
   "cell_type": "code",
   "execution_count": null,
   "metadata": {},
   "outputs": [],
   "source": []
  }
 ],
 "metadata": {
  "kernelspec": {
   "display_name": "Python 3",
   "language": "python",
   "name": "python3"
  },
  "language_info": {
   "codemirror_mode": {
    "name": "ipython",
    "version": 3
   },
   "file_extension": ".py",
   "mimetype": "text/x-python",
   "name": "python",
   "nbconvert_exporter": "python",
   "pygments_lexer": "ipython3",
   "version": "3.7.4"
  }
 },
 "nbformat": 4,
 "nbformat_minor": 2
}
