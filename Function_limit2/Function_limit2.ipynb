{
 "cells": [
  {
   "cell_type": "markdown",
   "metadata": {},
   "source": [
    "### \"Предел функции.\""
   ]
  },
  {
   "cell_type": "markdown",
   "metadata": {},
   "source": [
    "#### Найти предел функции:"
   ]
  },
  {
   "cell_type": "markdown",
   "metadata": {},
   "source": [
    "$1. \\displaystyle \\lim_{x\\to\\infty} \\frac{(23-2x^2)(3x^2+17)^2}{4x^6+x-1} = \\frac{18}{4} = \\frac{9}{2} = 4,5$"
   ]
  },
  {
   "cell_type": "markdown",
   "metadata": {},
   "source": [
    "$2. \\displaystyle \\lim_{x\\to\\infty} \\frac{(97-2x)^3}{2x(3x^2 + 15)+8x} = \\frac{-8}{6} = -\\frac{4}{3} = -1,(3)$"
   ]
  },
  {
   "cell_type": "markdown",
   "metadata": {},
   "source": [
    "$3. \\displaystyle \\lim_{x\\to\\infty} \\frac{2x^3 + 13x(x+18)}{(27-x)(2x+19)^2} = -0,5$"
   ]
  },
  {
   "cell_type": "markdown",
   "metadata": {},
   "source": [
    "$4. \\displaystyle \\lim_{x\\to6} \\frac{x^2 - 36}{x^2 - x - 30} = \\frac{(x-6)(x+6)}{(x-6)(x+5)} = \\frac{x+6}{x+5} = \\frac{12}{11}$"
   ]
  },
  {
   "cell_type": "markdown",
   "metadata": {},
   "source": [
    "$5. \\displaystyle \\lim_{x\\to7} \\frac{x^2-49}{x^2-13x+42} = \\frac{(x-7)(x+7)}{(x-7)(x-6)} = \\frac{14}{1} = 14$"
   ]
  },
  {
   "cell_type": "markdown",
   "metadata": {},
   "source": [
    "$6^*. \\displaystyle \\lim_{x\\to7} \\frac{\\sqrt{x+2} - \\sqrt[3]{x+20}}{\\sqrt[4]{x+9}-2} = $"
   ]
  },
  {
   "cell_type": "markdown",
   "metadata": {},
   "source": [
    "$7. \\displaystyle \\lim_{x\\to0} \\frac{3x \\tan 4x}{1-\\cos4x} = \\frac{3x*4x}{\\cfrac{4x^2}{2}} = \\frac{2*3x*4x}{4x*4x} = \\frac{6}{4} = \\frac{3}{2} = 1,5$"
   ]
  },
  {
   "cell_type": "markdown",
   "metadata": {},
   "source": [
    "$8^{**}. \\displaystyle \\lim_{x\\to0} \\frac{\\sqrt{2} x^2 \\sin 4x}{(1 - \\cos 2x)^{\\frac{3}{2}}} = \\frac{\\sqrt{2}x^2*4x}{\\left( \\frac{2x^2}{2} \\right)^{\\frac{3}{2}}} = \\frac{\\sqrt{2}x^2 * 4x}{2 \\left( \\frac{2x^2}{2} \\right)^{\\frac{1}{2}}} = \\frac{\\sqrt{2}x^2*4x}{2\\sqrt{\\frac{2x^2}{2}}} = 2\\sqrt{2}x^2 = (2\\sqrt{2}x^2)^2 = 4*2x^4 = 8x^4 = 0$"
   ]
  },
  {
   "cell_type": "markdown",
   "metadata": {},
   "source": [
    "$9. \\displaystyle \\lim_{x \\to \\infty} \\left( \\frac{4x}{4x+3} \\right)^{\\frac{5x^2}{7x-1}} = \\left( 1 - \\frac{3}{4x+3} \\right)^{\\frac{5x^2}{4x-1}*\\frac{-3}{4x+3}*\\frac{4x+3}{-3}} = e^{-\\frac{5}{4}}$"
   ]
  },
  {
   "cell_type": "markdown",
   "metadata": {},
   "source": [
    "$10^*. \\displaystyle \\lim_{x\\to +\\infty} \\frac{\\ln(x^2 - x + 1)}{\\ln(x^{10} + x + 1)} =$"
   ]
  },
  {
   "cell_type": "markdown",
   "metadata": {},
   "source": [
    "$11. \\displaystyle \\lim_{x\\to0} \\frac{5^x -1}{x} =$"
   ]
  }
 ],
 "metadata": {
  "kernelspec": {
   "display_name": "Python 3",
   "language": "python",
   "name": "python3"
  },
  "language_info": {
   "codemirror_mode": {
    "name": "ipython",
    "version": 3
   },
   "file_extension": ".py",
   "mimetype": "text/x-python",
   "name": "python",
   "nbconvert_exporter": "python",
   "pygments_lexer": "ipython3",
   "version": "3.7.4"
  }
 },
 "nbformat": 4,
 "nbformat_minor": 2
}
