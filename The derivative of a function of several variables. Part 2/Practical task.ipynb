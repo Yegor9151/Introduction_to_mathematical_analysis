{
 "cells": [
  {
   "cell_type": "markdown",
   "metadata": {},
   "source": [
    "1. Исследовать на условный экстремум функцию: $U=3−8x+6y$\n",
    "\n",
    "если $x^2+y^2=36$"
   ]
  },
  {
   "cell_type": "markdown",
   "metadata": {},
   "source": [
    "$U = 3 - 8x + 6y + \\lambda(x^2 + y^2 -36)$"
   ]
  },
  {
   "cell_type": "markdown",
   "metadata": {},
   "source": [
    "$\n",
    "\\begin{cases}\n",
    "U'_x = 2x\\lambda - 8 = 0, \\\\\n",
    "U'_y = 2y\\lambda + 6 = 0, \\\\\n",
    "U'_{\\lambda} = x^2 + y^2 - 36 = 0\n",
    "\\end{cases}\n",
    "$"
   ]
  },
  {
   "cell_type": "markdown",
   "metadata": {},
   "source": [
    "$\n",
    "\\begin{cases}\n",
    "    x = \\frac{4}{\\lambda} \\\\\n",
    "    y = -\\frac{3}{\\lambda} \\\\\n",
    "    \\left( \\frac{4}{\\lambda} \\right)^2 + \\left( -\\frac{3}{\\lambda} \\right)^2 = 36\n",
    "\\end{cases} \\Rightarrow\n",
    "\\begin{cases}\n",
    "    x = \\frac{4}{\\lambda} \\\\\n",
    "    y = -\\frac{3}{\\lambda} \\\\\n",
    "    \\lambda^2 = \\frac{25}{36}\n",
    "\\end{cases}\n",
    "$"
   ]
  },
  {
   "cell_type": "markdown",
   "metadata": {},
   "source": [
    "$\n",
    "\\left( \\cfrac{24}{5}, -\\cfrac{18}{5}, \\cfrac{5}{6} \\right) \\land \\left( -\\cfrac{24}{5}, \\cfrac{18}{5}, -\\cfrac{5}{6} \\right)\n",
    "$"
   ]
  },
  {
   "cell_type": "markdown",
   "metadata": {},
   "source": [
    "$\n",
    "U''_{xx} = 2\\lambda \\\\\n",
    "U''_{yy} = 2\\lambda \\\\\n",
    "U''_{\\lambda\\lambda} = 0 \\\\\n",
    "U''_{xy} = U''_{yx} = 0 \\\\\n",
    "U''_{x\\lambda} = U''_{\\lambda x} = 2x \\\\\n",
    "U''_{y\\lambda} = U''_{\\lambda y} = 2y\n",
    "$"
   ]
  },
  {
   "cell_type": "markdown",
   "metadata": {},
   "source": [
    "$\n",
    "\\Delta = \n",
    "\\begin{vmatrix}\n",
    "0 & 2x & 2y \\\\\n",
    "2x & 2\\lambda & 0 \\\\\n",
    "2y & 0 & 2\\lambda\n",
    "\\end{vmatrix} = \n",
    "0 \\cdot\n",
    "\\begin{vmatrix}\n",
    "2\\lambda & 0 \\\\\n",
    "0 & 2\\lambda\n",
    "\\end{vmatrix} -2x \\cdot\n",
    "\\begin{vmatrix}\n",
    "2x & 0 \\\\\n",
    "2y & 2\\lambda\n",
    "\\end{vmatrix} +2y \\cdot\n",
    "\\begin{vmatrix}\n",
    "2x & 2\\lambda \\\\\n",
    "2y & 0\n",
    "\\end{vmatrix} = -8x^2\\lambda -8y^2\\lambda = -8\\lambda\\cdot(x^2 + y^2) = -8\\lambda \\cdot 36 = -288\\lambda\n",
    "$"
   ]
  },
  {
   "cell_type": "markdown",
   "metadata": {},
   "source": [
    "$\n",
    "\\lambda = \\cfrac{5}{6} \\Rightarrow \n",
    "\\Delta < 0 \\Rightarrow \n",
    "\\left( \\cfrac{24}{5}, -\\cfrac{18}{5}, \\cfrac{5}{6} \\right) - т. min \\\\\n",
    "\\\\\n",
    "\\lambda = -\\cfrac{5}{6} \\Rightarrow \n",
    "\\Delta > 0 \\Rightarrow \n",
    "\\left( -\\cfrac{24}{5}, \\cfrac{18}{5}, -\\cfrac{5}{6} \\right) - т. max\n",
    "$"
   ]
  },
  {
   "cell_type": "markdown",
   "metadata": {},
   "source": [
    "2. Исследовать на условный экстремум функцию: $U = 2x^2 +12xy +32y^2 +15$\n",
    "\n",
    "если $x^2 +16y^2 = 64$"
   ]
  },
  {
   "cell_type": "markdown",
   "metadata": {},
   "source": [
    "$U = 2x^2 +12xy +32y^2 +15 +\\lambda \\cdot(x^2 +16y^2 -64)$"
   ]
  },
  {
   "cell_type": "markdown",
   "metadata": {},
   "source": [
    "$\n",
    "\\begin{cases}\n",
    "U'_x = 4x +12y +\\lambda \\cdot 2x \\\\\n",
    "U'_y = 12x +64y +\\lambda \\cdot 32y \\\\\n",
    "U'_{\\lambda} = x^2 +16y^2 -64\n",
    "\\end{cases}\n",
    "$"
   ]
  },
  {
   "cell_type": "markdown",
   "metadata": {},
   "source": [
    "$\n",
    "\\begin{cases}\n",
    "2x(2 +\\lambda) = -12y \\\\\n",
    "32y(2 +\\lambda) = -12x \\\\\n",
    "x^2 +16y^2 = 64\n",
    "\\end{cases}\n",
    "$"
   ]
  },
  {
   "cell_type": "markdown",
   "metadata": {},
   "source": [
    "$\n",
    "\\begin{cases}\n",
    "x = -\\cfrac{6y}{2 +\\lambda} \\\\\n",
    "y = -\\cfrac{3x}{8(2 +\\lambda)} \\\\\n",
    "\\left( -\\cfrac{6y}{2 +\\lambda} \\right)^2 + 16\\left( -\\cfrac{3x}{8(2 +\\lambda)} \\right)^2 = 64\n",
    "\\end{cases} \\Rightarrow\n",
    "\\begin{cases}\n",
    "x = -\\cfrac{6y}{2 +\\lambda} \\\\\n",
    "y = -\\cfrac{3x}{8(2 +\\lambda)} \\\\\n",
    "\\left( -\\cfrac{6y}{2 +\\lambda} \\right)^2 + \\left( -\\cfrac{12x}{8(2 +\\lambda)} \\right)^2 = 64\n",
    "\\end{cases}\\Rightarrow\n",
    "\\begin{cases}\n",
    "x = -\\cfrac{6y}{2 +\\lambda} \\\\\n",
    "y = -\\cfrac{3x}{8(2 +\\lambda)} \\\\\n",
    "\\left( -\\cfrac{6y}{2 +\\lambda} \\right)^2 + \\left( -\\cfrac{3x}{2(2 +\\lambda)} \\right)^2 = 64\n",
    "\\end{cases}\\Rightarrow\n",
    "\\begin{cases}\n",
    "x = -\\cfrac{6y}{2 +\\lambda} \\\\\n",
    "y = -\\cfrac{3x}{8(2 +\\lambda)} \\\\\n",
    "\\cfrac{36y^2}{(2 +\\lambda)^2} + \\cfrac{9x^2}{4(2 +\\lambda)^2} = 64\n",
    "\\end{cases}\\Rightarrow\n",
    "\\begin{cases}\n",
    "x = -\\cfrac{6y}{2 +\\lambda} \\\\\n",
    "y = -\\cfrac{3x}{8(2 +\\lambda)} \\\\\n",
    "\\cfrac{9(x^2 +16y^2)}{4(2 +\\lambda)^2} = 64\n",
    "\\end{cases}\\Rightarrow\n",
    "\\begin{cases}\n",
    "x = -\\cfrac{6y}{2 +\\lambda} \\\\\n",
    "y = -\\cfrac{3x}{8(2 +\\lambda)} \\\\\n",
    "\\cfrac{9 \\cdot 64}{4(2 +\\lambda)^2} = 64\n",
    "\\end{cases}\\Rightarrow\n",
    "\\begin{cases}\n",
    "x = -\\cfrac{6y}{2 +\\lambda} \\\\\n",
    "y = -\\cfrac{3x}{8(2 +\\lambda)} \\\\\n",
    "\\cfrac{9 \\cdot 16}{(2 +\\lambda)^2} = 64\n",
    "\\end{cases}\\Rightarrow\n",
    "\\begin{cases}\n",
    "x = -\\cfrac{6y}{2 +\\lambda} \\\\\n",
    "y = -\\cfrac{3x}{8(2 +\\lambda)} \\\\\n",
    "(2 +\\lambda)^2 = \\cfrac{9 \\cdot 16}{64}\n",
    "\\end{cases}\\Rightarrow\n",
    "\\begin{cases}\n",
    "x = -\\cfrac{6y}{2 +\\lambda} \\\\\n",
    "y = -\\cfrac{3x}{8(2 +\\lambda)} \\\\\n",
    "(2 +\\lambda)^2 = \\cfrac{9}{4}\n",
    "\\end{cases}\\Rightarrow\n",
    "\\begin{cases}\n",
    "x = -\\cfrac{6y}{2 +\\lambda} \\\\\n",
    "y = -\\cfrac{3x}{8(2 +\\lambda)} \\\\\n",
    "\\lambda^2 +4\\lambda +4 = \\cfrac{9}{4}\n",
    "\\end{cases}\\Rightarrow\n",
    "\\begin{cases}\n",
    "x = -\\cfrac{6y}{2 +\\lambda} \\\\\n",
    "y = -\\cfrac{3x}{8(2 +\\lambda)} \\\\\n",
    "\\lambda_1 = -\\cfrac{1}{2};\\ \\lambda_2 = -\\cfrac{7}{2}\n",
    "\\end{cases}\\Rightarrow\n",
    "\\begin{cases}\n",
    "x_1 = -4y;\\ x_2 = 4y \\\\\n",
    "y_1 = -\\cfrac{3x}{14};\\ y_2 = \\cfrac{x}{4} \\\\\n",
    "\\lambda_1 = -\\cfrac{1}{2};\\ \\lambda_2 -\\cfrac{7}{2}\n",
    "\\end{cases}\n",
    "$"
   ]
  },
  {
   "cell_type": "markdown",
   "metadata": {},
   "source": [
    "$\n",
    "\\left( -4y,\\ -\\cfrac{3x}{14},\\ -\\cfrac{1}{2} \\right) \\land \\left( 4y,\\ \\cfrac{x}{4},\\ -\\cfrac{7}{2} \\right)\n",
    "$"
   ]
  },
  {
   "cell_type": "markdown",
   "metadata": {},
   "source": [
    "$\n",
    "U''_{\\lambda\\lambda} = 0 \\\\\n",
    "U''_{xx} = 4 +2\\lambda \\\\\n",
    "U''_{yy} = 64 + 32\\lambda \\\\\n",
    "U''_{x \\lambda} = U''_{\\lambda x} = 2x \\\\\n",
    "U''_{y \\lambda} = U''_{\\lambda y} = 32y \\\\\n",
    "U''_{xy} = U''_{yx} = 12\n",
    "$"
   ]
  },
  {
   "cell_type": "markdown",
   "metadata": {},
   "source": [
    "$\n",
    "\\Delta = \n",
    "\\begin{vmatrix}\n",
    "0 & 2x & 32y \\\\\n",
    "2x & 4+2\\lambda & 12 \\\\\n",
    "32y & 12 & 64+32\\lambda \\\\\n",
    "\\end{vmatrix}\n",
    "\\\n",
    "= 0 \\cdot\n",
    "\\begin{vmatrix}\n",
    "4+2\\lambda & 12 \\\\\n",
    "12 & 64+32\\lambda \\\\\n",
    "\\end{vmatrix}\n",
    "\\\n",
    "-2x \\cdot\n",
    "\\begin{vmatrix}\n",
    "2x & 12 \\\\\n",
    "32y & 64+32\\lambda\n",
    "\\end{vmatrix}\n",
    "\\\n",
    "+32y \\cdot\n",
    "\\begin{vmatrix}\n",
    "2x & 4+2\\lambda \\\\\n",
    "32y & 12\n",
    "\\end{vmatrix} = \\\\\n",
    "-128x^2(2+\\lambda) - 768xy + 768xy - 2048y^2(2+\\lambda) = -128x^2(2+\\lambda) - 2048y^2(2+\\lambda) = -128(2 + \\lambda)(x^2 + 16y^2) = \\\\\n",
    "-128(2 + \\lambda) \\cdot 64 = -8192(2 + \\lambda)\n",
    "$"
   ]
  },
  {
   "cell_type": "markdown",
   "metadata": {},
   "source": [
    "$\n",
    "\\lambda = -\\cfrac{1}{2} \\Rightarrow \n",
    "\\Delta > 0 \\Rightarrow \n",
    "\\left( -4y,\\ -\\cfrac{3x}{14},\\ -\\cfrac{1}{2} \\right) - т. max\n",
    "\\\\\n",
    "\\lambda = -\\cfrac{7}{2} \\Rightarrow \n",
    "\\Delta > 0 \\Rightarrow \n",
    "\\left( 4y,\\ \\cfrac{x}{4},\\ -\\cfrac{7}{2} \\right) - т. max\n",
    "$"
   ]
  },
  {
   "cell_type": "markdown",
   "metadata": {},
   "source": [
    "3. Численно найти хотя бы один действительный корень системы нелинейных уравнений:\n",
    "\n",
    "$\n",
    "\\begin{cases}\n",
    "x^2 −y^2 +3xy^3 −2x^2y^2 +2x−3y −5 = 0 \\\\\n",
    "3y^3 −2x^2 +2x^3y −5x^2y^2 +5 = 0\n",
    "\\end{cases}\n",
    "$"
   ]
  },
  {
   "cell_type": "code",
   "execution_count": 46,
   "metadata": {},
   "outputs": [
    {
     "name": "stdout",
     "output_type": "stream",
     "text": [
      "x = 1.989466236392244, y = 0.6115337950696151\n"
     ]
    }
   ],
   "source": [
    "from scipy.optimize import fsolve\n",
    "\n",
    "def equations(p):\n",
    "    x, y = p\n",
    "    return (\n",
    "        x**2 - y**2 + 3*x*y**2 - 2*x**2*y**2 + 2*x - 3*y - 5, \n",
    "        3*y**3 - 2*x**2 + 2*x**3*y - 5*x**2*y**2 + 5\n",
    "    )\n",
    "\n",
    "# Численное решение системы уравнений\n",
    "x, y =  fsolve(equations, (10, 10))\n",
    "print (f'x = {x}, y = {y}')"
   ]
  },
  {
   "cell_type": "markdown",
   "metadata": {},
   "source": [
    "### Демидович"
   ]
  },
  {
   "cell_type": "markdown",
   "metadata": {},
   "source": [
    "$\n",
    "862 \\\\\n",
    "y = \\cos 2x - 2\\sin x \\\\\n",
    "y' = -2\\sin 2x - 2\\cos x\n",
    "$"
   ]
  },
  {
   "cell_type": "markdown",
   "metadata": {},
   "source": [
    "$\n",
    "863 \\\\\n",
    "y = (2 - x^2)\\cos x + 2x\\sin x \\\\\n",
    "y' = 2x\\cdot \\sin x + 2\\cos x\n",
    "$"
   ]
  },
  {
   "cell_type": "markdown",
   "metadata": {},
   "source": [
    "$\n",
    "864 \\\\\n",
    "y = \\sin(\\cos^2x) \\cdot \\cos(\\sin^2x) \\\\\n",
    "y' = \\cos(-2\\cos \\cdot \\sin x) \\cdot \\cos(\\sin^2x) - \\sin(\\cos^2x) \\cdot \\sin(2\\sin \\cdot \\cos x)\n",
    "$"
   ]
  },
  {
   "cell_type": "markdown",
   "metadata": {},
   "source": [
    "$\n",
    "867 \\\\\n",
    "y = \\cfrac{\\sin^2x}{\\sin x^2} \\\\\n",
    "y' = \\cfrac{2\\sin x \\cdot \\cos x \\cdot \\sin x^2 - \\sin^2x \\cdot \\cos x^2 \\cdot 2x}{\\sin^2x^4}\n",
    "$"
   ]
  },
  {
   "cell_type": "markdown",
   "metadata": {},
   "source": [
    "$\n",
    "868 \\\\\n",
    "y = \\cfrac{\\cos x}{2\\sin^2x} \\\\\n",
    "y' = -\\cfrac{\\sin x \\cdot 2\\sin^2x - \\cos x \\cdot 4\\sin x \\cdot \\cos x}{4\\sin^4x^2}\n",
    "$"
   ]
  },
  {
   "cell_type": "markdown",
   "metadata": {},
   "source": [
    "$\n",
    "875 \\\\\n",
    "y = \\sin[\\cos^2(tg^3x)] \\\\\n",
    "y' = \\cos[\\cos^2(\\tan^3x)] \\cdot [2\\cos(\\tan^3x) \\cdot \\left( -\\sin(\\tan^3x) \\dot (3\\tan^2x) \\cdot \\cfrac{1}{\\cos^2x} \\right)]\n",
    "$"
   ]
  },
  {
   "cell_type": "markdown",
   "metadata": {},
   "source": [
    "$\n",
    "876 \\\\\n",
    "y = e^{-x^2} \\\\\n",
    "y' = -e^{-2x} \\cdot e^{-x^2}\n",
    "$"
   ]
  },
  {
   "cell_type": "markdown",
   "metadata": {},
   "source": [
    "$\n",
    "877 \\\\\n",
    "y = 2^{\\tan \\frac{1}{x}} \\\\\n",
    "y' = 2^{\\frac{x}{cos^2}} \\cdot 2^{\\tan-\\frac{1}{x^2}} \\cdot \\tan \\cfrac{1}{x} 2^{-\\tan \\frac{1}{x}}\n",
    "$"
   ]
  },
  {
   "cell_type": "markdown",
   "metadata": {},
   "source": [
    "$\n",
    "878 \\\\\n",
    "y = e^x(x^2 -2x +2) \\\\\n",
    "y' = e^x(x^2 -2x +2) + e^x(2x-2)\n",
    "$"
   ]
  },
  {
   "cell_type": "markdown",
   "metadata": {},
   "source": [
    "$\n",
    "880 \\\\\n",
    "y = e^x(1 + ctg \\cfrac{x}{2}) \\\\\n",
    "y' = e^x \\cdot \\left( 1 + ctg \\cfrac{x}{2} \\right) + e^x \\cdot \\left( -\\cfrac{2}{2\\sin x^2} \\right)\n",
    "$"
   ]
  },
  {
   "cell_type": "markdown",
   "metadata": {},
   "source": [
    "$\n",
    "881 \\\\\n",
    "y = \\cfrac{\\ln3 \\cdot \\sin x + \\cos x}{3} \\\\\n",
    "y' = \\cfrac{3(2\\ln^2 \\cdot \\sin x + \\ln^3 \\cdot \\cos x)}{9}\n",
    "$"
   ]
  },
  {
   "cell_type": "markdown",
   "metadata": {},
   "source": [
    "$\n",
    "887 \\\\\n",
    "y = \\ln(\\ln(\\ln x)) \\\\\n",
    "y' = \\cfrac{1}{\\ln(\\ln x)} \\cdot \\cfrac{1}{\\ln x} \\cdot \\cfrac{1}{x}\n",
    "$"
   ]
  },
  {
   "cell_type": "markdown",
   "metadata": {},
   "source": [
    "$\n",
    "888 \\\\\n",
    "y = \\ln(\\ln^2(\\ln^3x)) \\\\\n",
    "y' = \\cfrac{1}{\\ln^2(\\ln^3x)} \\cdot 2\\ln(\\ln^3x) \\cdot \\cfrac{1}{\\ln(\\ln^3x)} \\cdot 3\\ln^2x \\cdot \\cfrac{1}{x}\n",
    "$"
   ]
  },
  {
   "cell_type": "markdown",
   "metadata": {},
   "source": [
    "$\n",
    "894 \\\\\n",
    "y = \\sqrt{x+1} - \\ln(1 + \\sqrt{x+1}) \\\\\n",
    "y' = \\cfrac{1}{2}(x+1)^{-\\frac{1}{2}} - \\cfrac{1}{(1 + \\sqrt{x+1})} \\cdot \\cfrac{1}{2}(x+1)^{-\\frac{1}{2}}\n",
    "$"
   ]
  },
  {
   "cell_type": "code",
   "execution_count": null,
   "metadata": {},
   "outputs": [],
   "source": []
  }
 ],
 "metadata": {
  "kernelspec": {
   "display_name": "Python 3",
   "language": "python",
   "name": "python3"
  },
  "language_info": {
   "codemirror_mode": {
    "name": "ipython",
    "version": 3
   },
   "file_extension": ".py",
   "mimetype": "text/x-python",
   "name": "python",
   "nbconvert_exporter": "python",
   "pygments_lexer": "ipython3",
   "version": "3.7.4"
  }
 },
 "nbformat": 4,
 "nbformat_minor": 2
}
