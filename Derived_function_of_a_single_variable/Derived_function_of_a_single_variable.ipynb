{
 "cells": [
  {
   "cell_type": "markdown",
   "metadata": {},
   "source": [
    "### Практическое задание"
   ]
  },
  {
   "cell_type": "markdown",
   "metadata": {},
   "source": [
    "#### Найти производную функции:"
   ]
  },
  {
   "cell_type": "markdown",
   "metadata": {},
   "source": [
    "$1.\\ y = \\cfrac{1}{x} + \\cfrac{2}{x^2} - \\cfrac{5}{x^3} + \\sqrt{x} - \\sqrt[3]{x} + \\cfrac{3}{\\sqrt{x}} = \\cfrac{6}{x^3} - \\cfrac{1}{x^2} + \\cfrac{1}{2\\sqrt{x}} - \\cfrac{1}{3\\sqrt[3]{x}} - \\cfrac{3}{2\\sqrt{x^3}}$"
   ]
  },
  {
   "cell_type": "markdown",
   "metadata": {},
   "source": [
    "$2.\\ y = x*\\sqrt{1+x^2} = \\cfrac{2x^2+x+3}{2\\sqrt{1+x^2}}$"
   ]
  },
  {
   "cell_type": "markdown",
   "metadata": {},
   "source": [
    "$3.\\ y = \\cfrac{2x}{1-x^2} = \\cfrac{2 + 4x}{1 - x^4}$"
   ]
  },
  {
   "cell_type": "markdown",
   "metadata": {},
   "source": [
    "$4.\\ y = \\sqrt{x + \\sqrt{x + \\sqrt{x}}} = \\cfrac{1}{2\\sqrt{x}} + \\cfrac{1}{4\\sqrt[4]{x}} + \\cfrac{1}{6\\sqrt[6]{x}}$"
   ]
  },
  {
   "cell_type": "markdown",
   "metadata": {},
   "source": [
    "$5.\\ y = \\ln{(x + \\sqrt{x^2 + 1})} = \\cfrac{1}{x} + \\cfrac{1}{\\sqrt{x^2+1}}$"
   ]
  },
  {
   "cell_type": "markdown",
   "metadata": {},
   "source": [
    "$6.\\ y = x*\\ln{(x + \\sqrt{x^2 + 1})} - \\sqrt{x^2 + 1} = \\cfrac{1}{x^2} + \\cfrac{1}{\\sqrt{x^2+1}} - \\cfrac{1}{2\\sqrt{x^2 + 1}}$"
   ]
  },
  {
   "cell_type": "markdown",
   "metadata": {},
   "source": [
    "$7.\\ y = \\arcsin{(\\sin{x})} = \\cfrac{1}{\\sqrt{1 - \\sin{x^2}}}$"
   ]
  },
  {
   "cell_type": "markdown",
   "metadata": {},
   "source": [
    "#### Вычислить приближенное значение"
   ]
  },
  {
   "cell_type": "markdown",
   "metadata": {},
   "source": [
    "$8.\\ \\sin{(1^0)} = \\sin{ \\left( \\frac{\\pi}{180} \\right)}$"
   ]
  },
  {
   "cell_type": "markdown",
   "metadata": {},
   "source": [
    "#### 9** Написать на python алгоритм, по вычислению значений $\\sin{(x)}$ для $x \\in [0, 5^0]$\n",
    "#### Для проверки подойдут данные из таблицы Брадиса"
   ]
  },
  {
   "cell_type": "code",
   "execution_count": 48,
   "metadata": {},
   "outputs": [],
   "source": [
    "import numpy as np    "
   ]
  },
  {
   "cell_type": "code",
   "execution_count": 68,
   "metadata": {},
   "outputs": [],
   "source": [
    "def sinx():\n",
    "    '''вычисление значения градуса'''\n",
    "    degrees = range(1, 6)\n",
    "    result = {i: round((np.pi*i)/180, 4) for i in degrees}\n",
    "    return result"
   ]
  },
  {
   "cell_type": "code",
   "execution_count": 76,
   "metadata": {},
   "outputs": [
    {
     "name": "stdout",
     "output_type": "stream",
     "text": [
      "(1, 0.0175)\n",
      "(2, 0.0349)\n",
      "(3, 0.0524)\n",
      "(4, 0.0698)\n",
      "(5, 0.0873)\n"
     ]
    }
   ],
   "source": [
    "for i in sinx().items():\n",
    "    print(i)"
   ]
  }
 ],
 "metadata": {
  "kernelspec": {
   "display_name": "Python 3",
   "language": "python",
   "name": "python3"
  },
  "language_info": {
   "codemirror_mode": {
    "name": "ipython",
    "version": 3
   },
   "file_extension": ".py",
   "mimetype": "text/x-python",
   "name": "python",
   "nbconvert_exporter": "python",
   "pygments_lexer": "ipython3",
   "version": "3.7.4"
  }
 },
 "nbformat": 4,
 "nbformat_minor": 2
}
