{
 "cells": [
  {
   "cell_type": "code",
   "execution_count": 47,
   "metadata": {},
   "outputs": [],
   "source": [
    "import numpy as np\n",
    "import matplotlib.pyplot as plt"
   ]
  },
  {
   "cell_type": "markdown",
   "metadata": {},
   "source": [
    "#### 1. Исследовать сходимость ряда."
   ]
  },
  {
   "cell_type": "markdown",
   "metadata": {},
   "source": [
    "$$\n",
    "\\frac{1}{2\\sqrt2}+\\frac{1}{3\\sqrt3}+\\,...\\,+\\frac{1}{(n+1)\\sqrt{n+1}}+\\,...\\,=\\sum\\limits_{n=1}^{+\\infty}\\frac{1}{(n+1)\\sqrt{n+1}}\n",
    "$$\n",
    "\n",
    "(*) Двумя различными признаками."
   ]
  },
  {
   "cell_type": "markdown",
   "metadata": {},
   "source": [
    "##### Второй признак сравнения\n",
    "$$\n",
    "O \\left( \\cfrac{1}{n^{1+\\frac{1}{2}}} \\right) = \n",
    "O \\left( \\cfrac{1}{n^{\\frac{2+1}{2}}} \\right) =\n",
    "O \\left( \\cfrac{1}{n^{1,5}} \\right) \\\\\n",
    "$$\n",
    "1,5 > 1 - ряд сходится"
   ]
  },
  {
   "cell_type": "markdown",
   "metadata": {},
   "source": [
    "##### Признак д’Аламбера.\n",
    "$$\n",
    "\\lim_{n\\to+\\infty} \\frac{a_n+1}{a_n} = \n",
    "\\frac{1 \\cdot (n+1)\\sqrt{n+1}}{(n+2)\\sqrt{n+2} \\cdot 1} =\n",
    "\\frac{(n+1)^{1,5}}{(n+2)^{1,5}}\n",
    "$$\n",
    "$\\cfrac{1}{2}$ < 1 - ряд сходится"
   ]
  },
  {
   "cell_type": "markdown",
   "metadata": {},
   "source": [
    "#### 2. Исследовать сходимость ряда\n",
    "\n",
    "$$\n",
    "\\frac{1000}{1!}+\\frac{1000^2}{2!}+\\,...\\,+\\frac{1000^n}{n!}+\\,...\\,=\\sum\\limits_{n=1}^{+\\infty}\\frac{1000^n}{n!} = 0\n",
    "$$\n",
    "$\\frac{1000^n}{n!} = 0$ - ряд сходится"
   ]
  },
  {
   "cell_type": "markdown",
   "metadata": {},
   "source": [
    "#### 3*. Исследовать сходимость ряда\n",
    "\n",
    "$$\n",
    "\\frac{2\\cdot1!}{1}+\\frac{2^2\\cdot2!}{2^2}+\\,...\\,+\\frac{2^n\\cdot n!}{n^n}+\\,...\\,=\\sum\\limits_{n=1}^{+\\infty}\\frac{2^n\\cdot n!}{n^n}\n",
    "$$"
   ]
  },
  {
   "cell_type": "markdown",
   "metadata": {},
   "source": [
    "#### 4*. Исследовать сходимость ряда\n",
    "\n",
    "$$\n",
    "\\frac{3\\cdot1!}{1}+\\frac{3^2\\cdot2!}{2^2}+\\,...\\,+\\frac{3^n\\cdot n!}{n^n}+\\,...\\,=\\sum\\limits_{n=1}^{+\\infty}\\frac{3^n\\cdot n!}{n^n}\n",
    "$$"
   ]
  },
  {
   "cell_type": "markdown",
   "metadata": {},
   "source": [
    "#### 5. Исследовать сходимость ряда\n",
    "\n",
    "$$\n",
    "-\\frac{\\sqrt1}{101}+\\frac{\\sqrt2}{102}-\\,...\\,+\\frac{(-1)^n\\sqrt n}{n+100}+\\,...\\,=\\sum\\limits_{n=1}^{+\\infty}\\frac{(-1)^n\\sqrt n}{n+100}\n",
    "$$"
   ]
  },
  {
   "cell_type": "markdown",
   "metadata": {},
   "source": [
    "##### Признак д’Аламбера\n",
    "$$\n",
    "\\cfrac{(-1)^{n+1} \\cdot \\sqrt{n+1} \\cdot (n+100)}{(n+101)\\cdot(-1)^n \\cdot \\sqrt(n)} =\n",
    "\\cfrac{-n\\sqrt{n+1} + 100\\sqrt{n+1}}{n\\sqrt{n+1} + 100\\sqrt{n}} =\n",
    "\\sqrt{\\cfrac{n+1}{n}} = \\cfrac{1}{\\sqrt{n}} = 0\n",
    "$$\n",
    "0 < 1 - ряд сходитс"
   ]
  },
  {
   "cell_type": "markdown",
   "metadata": {},
   "source": [
    "#### 6*. Разложить функцию $y=e^x$ в ряд Маклорена, а так же в ряд Фурье на отрезке $[-\\pi, \\pi]$. Построить график функции и разложений."
   ]
  },
  {
   "cell_type": "markdown",
   "metadata": {},
   "source": [
    "#### ряд Маклорена\n",
    "$$\n",
    "e^x = \\cfrac{e^0}{0!}x^0 + \\cfrac{e^0}{1!}x^1 + \\cfrac{e^0}{2!}x^2 + ... = \\\\\n",
    "= 1 + x + \\cfrac{x^2}{2} + \\cfrac{x^3}{3!} = \n",
    "\\sum\\limits_{n=0}^{+\\infty}\\cfrac{x^n}{n!}\n",
    "$$"
   ]
  },
  {
   "cell_type": "markdown",
   "metadata": {},
   "source": [
    "#### ряд Фурье\n",
    "### $$\n",
    "a_0 = \\frac{1}{2\\pi} \\int\\limits_{-\\pi}^{\\pi} f(x)dx = \\frac{1}{2\\pi} \\int\\limits_{-\\pi}^{\\pi} e^x dx =\n",
    "$$"
   ]
  },
  {
   "cell_type": "markdown",
   "metadata": {},
   "source": [
    "$$\n",
    "= \\frac{1}{2\\pi} \\cdot e^x \\Bigr|_{-\\pi}^{\\pi} =\n",
    "\\frac{1}{2\\pi} \\cdot (e^{\\pi} - e^{-\\pi}) = e^{\\pi} - \\frac{1}{e^{\\pi}} =\n",
    "\\frac{e^{2\\pi}-1}{e^\\pi} = e^\\pi -1\n",
    "$$"
   ]
  },
  {
   "cell_type": "markdown",
   "metadata": {},
   "source": [
    "### $$\n",
    "a_n=\\frac{1}{\\pi}\\int\\limits_{-\\pi}^\\pi f(x)\\cos nx\\,dx =\n",
    "\\frac{1}{\\pi}\\int\\limits_{-\\pi}^\\pi e^x\\cos nx\\,dx = \\\\\n",
    "$$"
   ]
  },
  {
   "cell_type": "markdown",
   "metadata": {},
   "source": [
    "$$\n",
    "U = e^x \\Rightarrow dU = e^xdx \\\\\n",
    "dV = \\cos nx\\,dx \\Rightarrow V = \\frac{1}{n} \\sin nx\n",
    "$$"
   ]
  },
  {
   "cell_type": "markdown",
   "metadata": {},
   "source": [
    "$$\n",
    "= \\left( \\frac{1}{\\pi n} e^x \\sin nx \\right) \\Bigr|_{-\\pi}^{\\pi} - \\frac{2}{\\pi n} \\int\\limits_{-\\pi}^{\\pi} e^x \\sin nx\\,dx =\n",
    "$$"
   ]
  },
  {
   "cell_type": "markdown",
   "metadata": {},
   "source": [
    "$$\n",
    "U = e^x \\Rightarrow dU = e^x\\,dx \\\\\n",
    "dV = \\sin nx\\,dx \\Rightarrow V = -\\frac{1}{n}\\cos nx\n",
    "$$"
   ]
  },
  {
   "cell_type": "markdown",
   "metadata": {},
   "source": [
    "$$\n",
    "= \\left( \\frac{2}{\\pi n^2} e^x \\cos nx \\right) \\Bigr|_{-\\pi}^{\\pi} \n",
    "- \\frac{2}{\\pi n^2} \\int\\limits_{-\\pi}^{\\pi} e^x \\cos nx\\,dx =\n",
    "$$"
   ]
  },
  {
   "cell_type": "markdown",
   "metadata": {},
   "source": [
    "$$\n",
    "= \\frac{2}{\\pi n^2}e^\\pi\\cos\\pi n - \\frac{2}{\\pi n^2}(e^{-\\pi})\\cos\\pi n = \n",
    "\\frac{2e^\\pi\\cos\\pi n - 2e^{-\\pi}\\cos\\pi n}{\\pi n^2} =\n",
    "\\frac{2e^\\pi\\cos\\pi n - 2\\cos\\pi n}{\\pi n^2 e^\\pi} =\n",
    "1\\frac{0}{\\pi n^2 e^\\pi} = 0\n",
    "$$"
   ]
  },
  {
   "cell_type": "markdown",
   "metadata": {},
   "source": [
    "### $$\n",
    "b_n=\\frac{1}{\\pi}\\int\\limits_{-\\pi}^\\pi f(x)\\sin nx\\,dx =\n",
    "\\frac{1}{\\pi}\\int\\limits_{-\\pi}^\\pi e^x\\sin nx\\,dx = \\\\\n",
    "$$"
   ]
  },
  {
   "cell_type": "markdown",
   "metadata": {},
   "source": [
    "$$\n",
    "U = e^x \\Rightarrow dU = e^xdx \\\\\n",
    "dV = \\sin nx\\,dx \\Rightarrow V = -\\frac{1}{n} \\cos nx\n",
    "$$"
   ]
  },
  {
   "cell_type": "markdown",
   "metadata": {},
   "source": [
    "$$\n",
    "= \\left( -\\frac{1}{\\pi n} e^x \\cos nx \\right) \\Bigr|_{-\\pi}^{\\pi} + \\frac{2}{\\pi n} \\int\\limits_{-\\pi}^{\\pi} e^x \\cos nx\\,dx =\n",
    "$$"
   ]
  },
  {
   "cell_type": "markdown",
   "metadata": {},
   "source": [
    "$$\n",
    "U = e^x \\Rightarrow dU = e^x\\,dx \\\\\n",
    "dV = \\cos nx\\,dx \\Rightarrow V = \\frac{1}{n}\\sin nx\n",
    "$$"
   ]
  },
  {
   "cell_type": "markdown",
   "metadata": {},
   "source": [
    "$$\n",
    "= \\left( \\frac{2}{\\pi n^2} e^x \\sin nx \\right) \\Bigr|_{-\\pi}^{\\pi} \n",
    "- \\frac{2}{\\pi n^2} \\int\\limits_{-\\pi}^{\\pi} e^x \\sin nx\\,dx =\n",
    "$$"
   ]
  },
  {
   "cell_type": "markdown",
   "metadata": {},
   "source": [
    "$$\n",
    "=\\left( \\frac{2}{\\pi n^3}e^x\\cos nx \\right) \\Bigr|_{-\\pi}^{\\pi} = 0\n",
    "$$"
   ]
  },
  {
   "cell_type": "markdown",
   "metadata": {},
   "source": [
    "$$e^x = e^x -1$$"
   ]
  },
  {
   "cell_type": "code",
   "execution_count": 75,
   "metadata": {},
   "outputs": [],
   "source": [
    "x = np.arange(5)\n",
    "y = np.e**x\n",
    "yd = np.e**x - 1"
   ]
  },
  {
   "cell_type": "code",
   "execution_count": 76,
   "metadata": {},
   "outputs": [
    {
     "data": {
      "image/png": "[encoded data removed]",
      "text/plain": [
       "<Figure size 432x288 with 1 Axes>"
      ]
     },
     "metadata": {
      "needs_background": "light"
     },
     "output_type": "display_data"
    }
   ],
   "source": [
    "plt.plot(x, y)\n",
    "plt.plot(x, yd)\n",
    "plt.show()"
   ]
  },
  {
   "cell_type": "code",
   "execution_count": null,
   "metadata": {},
   "outputs": [],
   "source": []
  }
 ],
 "metadata": {
  "kernelspec": {
   "display_name": "Python 3",
   "language": "python",
   "name": "python3"
  },
  "language_info": {
   "codemirror_mode": {
    "name": "ipython",
    "version": 3
   },
   "file_extension": ".py",
   "mimetype": "text/x-python",
   "name": "python",
   "nbconvert_exporter": "python",
   "pygments_lexer": "ipython3",
   "version": "3.7.4"
  }
 },
 "nbformat": 4,
 "nbformat_minor": 2
}
