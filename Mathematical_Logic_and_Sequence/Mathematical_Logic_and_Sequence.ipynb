{
 "cells": [
  {
   "cell_type": "markdown",
   "metadata": {},
   "source": [
    "## \"Математическая логика\""
   ]
  },
  {
   "cell_type": "markdown",
   "metadata": {},
   "source": [
    "### Проверить любым способом, является ли данная логическая формула тавтологией:\n",
    "\n",
    "#### 1. $(A \\vee B) \\rightarrow (B \\vee \\bar A)$ - не тавтолигия"
   ]
  },
  {
   "cell_type": "markdown",
   "metadata": {},
   "source": [
    "Доказательство:\n",
    "\n",
    "A = T, B = T\n",
    "\n",
    "$(T \\vee T) \\rightarrow (T \\vee \\bar T);\\ T \\rightarrow T;\\ T$\n",
    "\n",
    "A = T, B = F\n",
    "\n",
    "$(T \\vee F) \\rightarrow (F \\vee \\bar T);\\ T \\rightarrow F;\\ F$"
   ]
  },
  {
   "cell_type": "markdown",
   "metadata": {},
   "source": [
    "#### 2. $A \\rightarrow (A \\vee (\\bar B \\wedge A))$ - тавтология"
   ]
  },
  {
   "cell_type": "markdown",
   "metadata": {},
   "source": [
    "Доказательство:\n",
    "\n",
    "A = T, B = T\n",
    "\n",
    "$T \\rightarrow (T \\vee (\\bar T \\wedge T));\\ T \\rightarrow T;\\ T$\n",
    "\n",
    "A = T, B = F\n",
    "\n",
    "$T \\rightarrow (T \\vee (\\bar F \\wedge T));\\ T \\rightarrow T;\\ T$\n",
    "\n",
    "A = F, B = T\n",
    "\n",
    "$F \\rightarrow (F \\vee (\\bar T \\wedge F));\\ F \\rightarrow (F \\vee (F \\wedge F));\\ F \\rightarrow (F \\vee F);\\ T$\n",
    "\n",
    "A = F, B = F\n",
    "\n",
    "$F \\rightarrow (F \\vee (\\bar F \\wedge F));\\ F \\rightarrow (F \\vee (T \\wedge F));\\ F \\rightarrow (F \\vee F);\\ T$"
   ]
  },
  {
   "cell_type": "markdown",
   "metadata": {},
   "source": [
    "### Сформулируйте словесно высказывания:\n",
    "\n",
    "##### А: сегодня светит солнце; В: сегодня сыро; С: я поеду на дачу. \n",
    "\n",
    "#### 3. $(\\bar A \\vee B) \\to \\bar C$"
   ]
  },
  {
   "cell_type": "markdown",
   "metadata": {},
   "source": [
    "Сегодня не светит солнце или сегодня сыро, значит не поеду на дачу."
   ]
  },
  {
   "cell_type": "markdown",
   "metadata": {},
   "source": [
    "#### 4. $C \\rightarrow (A \\vee \\bar B)$"
   ]
  },
  {
   "cell_type": "markdown",
   "metadata": {},
   "source": [
    "Я поеду на дачу, так как сегодня светит солнце или сегодня сухо"
   ]
  },
  {
   "cell_type": "markdown",
   "metadata": {},
   "source": [
    "### Пользуясь правилом построения противоположного высказывания, записать утверждения, противоположные следующим:\n",
    "\n",
    "#### 5. На любом курсе каждого факультета есть студенты, сдающие все экзамены на «отлично».\n",
    "\n",
    "$\\forall$ курсе $\\in \\forall$ факультета $\\exists$ студенты сдающие $\\forall$ экзамены на отлично."
   ]
  },
  {
   "cell_type": "markdown",
   "metadata": {},
   "source": [
    "Есть курс какого нибудь факультета, где все студенты, сдают некоторые экзамены не на \"отлично\".\n",
    "\n",
    "$\\exists$ курс $\\in \\exists$ факультета $\\forall$ студенты сдают $\\exists$ экзамены не на \"отлично\"."
   ]
  },
  {
   "cell_type": "markdown",
   "metadata": {},
   "source": [
    "#### 6. Каждый студент философского факультета имеет друга, который умеет решать все логические задачи.\n",
    "\n",
    "$\\forall$ студент философского факультета $\\ni$ друга $\\rightarrow$ умеет решать $\\forall$ логические задачи."
   ]
  },
  {
   "cell_type": "markdown",
   "metadata": {},
   "source": [
    "Есть хотя бы один студент философского факультета имеющий друга, который умеет решать только некоторые логические задачи.\n",
    "\n",
    "$\\exists$ студент философского факультета $\\ni$ друга $\\rightarrow$ умеет решать $\\exists$ логические задачи."
   ]
  },
  {
   "cell_type": "markdown",
   "metadata": {},
   "source": [
    "#### 7. В любом самолете на рейсе Вашингтон-Москва присутствует хотя бы один сотрудник силовых органов, в каждой пуговице одежды которого вмонтирован микрофон.\n",
    "\n",
    "$\\forall$ самолёте $\\in$ рейсе Вашингтон-Москва $\\exists$ сотрудник силовых органов $\\forall$ пуговице одежды которого вмонтирован микрофон."
   ]
  },
  {
   "cell_type": "markdown",
   "metadata": {},
   "source": [
    "Есть самолёты на рейсе Вашингтон-Москва, где у каждого сотрудника силовых органов, есть пуговицы одежды которого не вмонтирован микрофон.\n",
    "$\\exists$ самолет $\\in$ рейсе Вашингтон-Москва $\\forall$ сотрудника силовых органов $\\exists$ пуговицы одежды которого не вмонтирован микрофон. "
   ]
  },
  {
   "cell_type": "markdown",
   "metadata": {},
   "source": [
    "## \"Множества. Предел последовательности\""
   ]
  },
  {
   "cell_type": "markdown",
   "metadata": {},
   "source": [
    "### Представьте в виде несократимой рациональной дроби:\n",
    "#### 8. 0.(216)\n"
   ]
  },
  {
   "cell_type": "markdown",
   "metadata": {},
   "source": [
    "$a = 0.(216)$\n",
    "\n",
    "$1000a = 216.(216)$\n",
    "\n",
    "$1000a = 216 + 0.(216)$\n",
    "\n",
    "$1000a = 216 + a$\n",
    "\n",
    "$1000a - a = 216$\n",
    "\n",
    "$999a = 216$\n",
    "\n",
    "$a = \\cfrac{216}{999} = \\cfrac{8}{37}$"
   ]
  },
  {
   "cell_type": "markdown",
   "metadata": {},
   "source": [
    "#### 9. 1.0(01)"
   ]
  },
  {
   "cell_type": "markdown",
   "metadata": {},
   "source": [
    "$a = 1.0(01)$\n",
    "\n",
    "$10a = 10.(01)$\n",
    "\n",
    "$10a = 10 + 0.(01)$\n",
    "\n",
    "$10a - 10 = 0.(01)$\n",
    "\n",
    "$100(10a - 10) = 1.(01)$\n",
    "\n",
    "$100(10a - 10) = 1 + 0.(01)$\n",
    "\n",
    "$100(10a - 10) = 1 + (10a - 10)$\n",
    "\n",
    "$99(10a - 10) = 1$\n",
    "\n",
    "$990a - 990 = 1$\n",
    "\n",
    "$990a = 991$\n",
    "\n",
    "$a = \\cfrac{991}{990}$"
   ]
  },
  {
   "cell_type": "markdown",
   "metadata": {},
   "source": [
    "#### 10. Представьте 1 в виде суммы трех рациональных дробей с разными знаменателями и числителем равным 1."
   ]
  },
  {
   "cell_type": "markdown",
   "metadata": {},
   "source": [
    "$1 = \\cfrac{1}{2} + \\cfrac{1}{3} + \\cfrac{1}{6}$"
   ]
  },
  {
   "cell_type": "markdown",
   "metadata": {},
   "source": [
    "#### 11*. Тоже задание, только в виде суммы шести дробей."
   ]
  },
  {
   "cell_type": "markdown",
   "metadata": {},
   "source": [
    "#### 12. Найдите значение предела:\n",
    "\n",
    "$\\displaystyle \\lim_{n\\to\\infty} \\left( \\frac{1}{1*2} + \\frac{1}{2*3} + \\frac{1}{3*4} + ... + \\frac{1}{(n-1)*n} \\right)$"
   ]
  },
  {
   "cell_type": "markdown",
   "metadata": {},
   "source": [
    "$\\cfrac{1}{(\\infty - 1) * \\infty} = \\cfrac{1}{\\infty} = 0$"
   ]
  },
  {
   "cell_type": "code",
   "execution_count": 32,
   "metadata": {},
   "outputs": [
    {
     "data": {
      "text/plain": [
       "'не знаю как найти проверял по вскому, всё = 0 выходит'"
      ]
     },
     "execution_count": 32,
     "metadata": {},
     "output_type": "execute_result"
    }
   ],
   "source": [
    "'''не знаю как найти проверял по вскому, всё = 0 выходит'''"
   ]
  },
  {
   "cell_type": "markdown",
   "metadata": {},
   "source": [
    "#### 13. Пользуясь критерием Коши, докажите сходимость последовательности:\n",
    "\n",
    "$a_n = \\cfrac{\\sin 1}{2} + \\cfrac{\\sin 2}{2^2} + \\cfrac{\\sin 3}{2^3} + ... + \\cfrac{\\sin n}{2^n}$"
   ]
  },
  {
   "cell_type": "markdown",
   "metadata": {},
   "source": [
    "$|a_n - a_{n+k}| = \\left| \\cfrac{\\sin n}{2^n} - \\cfrac{\\sin n}{2^{n+k}} \\right| = \\cfrac{\\sin n}{2^n} \\left| 1 - \\cfrac{1}{2^k} \\right| < \\cfrac{\\sin n}{2^n} < \\cfrac{\\sin N(\\varepsilon)}{2^{N(\\varepsilon)}} = \\varepsilon$"
   ]
  },
  {
   "cell_type": "markdown",
   "metadata": {},
   "source": [
    "#### * Какой член последовательности можно взять в качестве предела с точностью $\\varepsilon = 10^{-7}$"
   ]
  },
  {
   "cell_type": "markdown",
   "metadata": {},
   "source": [
    "$N(\\varepsilon) = -\\log_2\\varepsilon$"
   ]
  },
  {
   "cell_type": "markdown",
   "metadata": {},
   "source": [
    "$N \\left( 10^{-7} \\right) = -\\log_2 \\left( 10^{-7} \\right) \\approx 23.25$"
   ]
  },
  {
   "cell_type": "markdown",
   "metadata": {},
   "source": [
    "$a_{24} = \\cfrac{\\sin 24}{2^{24}} = \\cfrac{\\sin 24}{16777216} = −5.3976676584 < 10^{-7}$"
   ]
  },
  {
   "cell_type": "markdown",
   "metadata": {},
   "source": [
    "#### 14*. Пользуясь критерием Коши, докажите расходимость последовательности:\n",
    "\n",
    "$b_n = 1 + \\cfrac{1}{2} + \\cfrac{1}{3} + ... + \\cfrac{1}{n}$"
   ]
  },
  {
   "cell_type": "markdown",
   "metadata": {},
   "source": [
    "$|a_n - a_{n+k}| = \\left| \\cfrac{1}{n} - \\cfrac{1}{n+k} \\right| = \\cfrac{1}{n} \\left| 1 - \\cfrac{1}{k} \\right| \\geq \\cfrac{1}{n} \\geq \\cfrac{1}{N(\\varepsilon)} \\geq \\varepsilon$"
   ]
  }
 ],
 "metadata": {
  "kernelspec": {
   "display_name": "Python 3",
   "language": "python",
   "name": "python3"
  },
  "language_info": {
   "codemirror_mode": {
    "name": "ipython",
    "version": 3
   },
   "file_extension": ".py",
   "mimetype": "text/x-python",
   "name": "python",
   "nbconvert_exporter": "python",
   "pygments_lexer": "ipython3",
   "version": "3.7.4"
  }
 },
 "nbformat": 4,
 "nbformat_minor": 2
}
