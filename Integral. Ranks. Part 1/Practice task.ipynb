{
 "cells": [
  {
   "cell_type": "code",
   "execution_count": 13,
   "metadata": {},
   "outputs": [],
   "source": [
    "from sympy import *\n",
    "init_printing()\n",
    "\n",
    "x = Symbol('x')"
   ]
  },
  {
   "cell_type": "markdown",
   "metadata": {},
   "source": [
    "#### Вычислить неопределенный интеграл"
   ]
  },
  {
   "cell_type": "markdown",
   "metadata": {},
   "source": [
    "#### 1. \n",
    "$$\n",
    "\\int \\cfrac{2x+3}{(x-2)(x+5)}\\,dx = \\int \\cfrac{2x +3}{x^2 +3x -10}\\,dx = \\cfrac{1}{2}\\int \\cfrac{d2x(x +3)}{x^2 +3x -10} = \\int \\cfrac{d2(x^2 +3x +10)}{2(x^2 +3x -10)} =\\ln|x^2 +3x -10| + C\n",
    "$$"
   ]
  },
  {
   "cell_type": "code",
   "execution_count": 9,
   "metadata": {},
   "outputs": [
    {
     "data": {
      "image/png": "[encoded data removed]",
      "text/latex": [
       "$\\displaystyle \\frac{2 x + 3}{\\left(x - 2\\right) \\left(x + 5\\right)}$"
      ],
      "text/plain": [
       "    2⋅x + 3    \n",
       "───────────────\n",
       "(x - 2)⋅(x + 5)"
      ]
     },
     "execution_count": 9,
     "metadata": {},
     "output_type": "execute_result"
    }
   ],
   "source": [
    "f = (2*x +3)/((x-2)*(x+5))\n",
    "f"
   ]
  },
  {
   "cell_type": "code",
   "execution_count": 10,
   "metadata": {},
   "outputs": [
    {
     "data": {
      "image/png": "[encoded data removed]",
      "text/latex": [
       "$\\displaystyle \\log{\\left(x^{2} + 3 x - 10 \\right)}$"
      ],
      "text/plain": [
       "   ⎛ 2           ⎞\n",
       "log⎝x  + 3⋅x - 10⎠"
      ]
     },
     "execution_count": 10,
     "metadata": {},
     "output_type": "execute_result"
    }
   ],
   "source": [
    "integrate(f, x)"
   ]
  },
  {
   "cell_type": "markdown",
   "metadata": {},
   "source": [
    "#### 2. \n",
    "$$\n",
    "\\int e^{2x}\\cos 3x\\,dx \\\\\n",
    "U = e^{2x} \\Rightarrow dU = 2e^{2x}dx \\\\\n",
    "dV = \\cos3xdx \\Rightarrow V = \\cfrac{1}{3}\\sin3x\n",
    "$$"
   ]
  },
  {
   "cell_type": "markdown",
   "metadata": {},
   "source": [
    "$$\n",
    "\\int e^{2x}\\cos 3x\\,dx = e^{2x} \\cdot \\cfrac{1}{3}\\sin3x - \\int\\cfrac{1}{3}\\sin3x \\cdot 2e^{2x}dx \\\\\n",
    "U = \\cfrac{1}{3}\\sin3x \\Rightarrow dU = \\cos3xdx \\\\\n",
    "dV = 2e^{2x}dx \\Rightarrow V = e^{2x}\n",
    "$$"
   ]
  },
  {
   "cell_type": "markdown",
   "metadata": {},
   "source": [
    "$$\n",
    "\\int e^{2x}\\cos 3x\\,dx = e^{2x} \\cdot \\cfrac{1}{3}\\sin3x - \\cfrac{1}{3}\\sin3x \\cdot e^{2x} - \\int e^{2x}\\cos3xdx \\\\\n",
    "2\\int e^{2x}\\cos3xdx = \\cfrac{e^{2x}\\sin3x - e^{2x}\\sin3x}{3} \\\\\n",
    "\\int e^{2x}\\cos3xdx = \\cfrac{e^{2x}\\sin3x}{6} +C\n",
    "$$"
   ]
  },
  {
   "cell_type": "code",
   "execution_count": 29,
   "metadata": {},
   "outputs": [
    {
     "data": {
      "image/png": "[encoded data removed]",
      "text/latex": [
       "$\\displaystyle \\epsilon^{2 x} \\cos{\\left(3 x \\right)}$"
      ],
      "text/plain": [
       " 2⋅x         \n",
       "ε   ⋅cos(3⋅x)"
      ]
     },
     "execution_count": 29,
     "metadata": {},
     "output_type": "execute_result"
    }
   ],
   "source": [
    "f = abc.epsilon**(2*x)*cos(3*x)\n",
    "f"
   ]
  },
  {
   "cell_type": "code",
   "execution_count": 30,
   "metadata": {},
   "outputs": [
    {
     "data": {
      "text/latex": [
       "$\\displaystyle \\begin{cases} \\frac{i x e^{- 3 i x} \\sin{\\left(3 x \\right)}}{2} + \\frac{x e^{- 3 i x} \\cos{\\left(3 x \\right)}}{2} + \\frac{i e^{- 3 i x} \\cos{\\left(3 x \\right)}}{6} & \\text{for}\\: \\epsilon = e^{- \\frac{3 i}{2}} \\\\- \\frac{i x e^{3 i x} \\sin{\\left(3 x \\right)}}{2} + \\frac{x e^{3 i x} \\cos{\\left(3 x \\right)}}{2} - \\frac{i e^{3 i x} \\cos{\\left(3 x \\right)}}{6} & \\text{for}\\: \\epsilon = e^{\\frac{3 i}{2}} \\\\\\frac{2 \\epsilon^{2 x} \\log{\\left(\\epsilon \\right)} \\cos{\\left(3 x \\right)}}{4 \\log{\\left(\\epsilon \\right)}^{2} + 9} + \\frac{3 \\epsilon^{2 x} \\sin{\\left(3 x \\right)}}{4 \\log{\\left(\\epsilon \\right)}^{2} + 9} & \\text{otherwise} \\end{cases}$"
      ],
      "text/plain": [
       "⎧                                                                         -3⋅ⅈ\n",
       "⎪     -3⋅ⅈ⋅x               -3⋅ⅈ⋅x               -3⋅ⅈ⋅x                    ────\n",
       "⎪ⅈ⋅x⋅ℯ      ⋅sin(3⋅x)   x⋅ℯ      ⋅cos(3⋅x)   ⅈ⋅ℯ      ⋅cos(3⋅x)             2 \n",
       "⎪──────────────────── + ────────────────── + ──────────────────  for ε = ℯ    \n",
       "⎪         2                     2                    6                        \n",
       "⎪                                                                             \n",
       "⎪                                                                          3⋅ⅈ\n",
       "⎪       3⋅ⅈ⋅x               3⋅ⅈ⋅x               3⋅ⅈ⋅x                      ───\n",
       "⎨  ⅈ⋅x⋅ℯ     ⋅sin(3⋅x)   x⋅ℯ     ⋅cos(3⋅x)   ⅈ⋅ℯ     ⋅cos(3⋅x)              2 \n",
       "⎪- ─────────────────── + ───────────────── - ─────────────────    for ε = ℯ   \n",
       "⎪           2                    2                   6                        \n",
       "⎪                                                                             \n",
       "⎪              2⋅x                      2⋅x                                   \n",
       "⎪           2⋅ε   ⋅log(ε)⋅cos(3⋅x)   3⋅ε   ⋅sin(3⋅x)                          \n",
       "⎪           ────────────────────── + ───────────────               otherwise  \n",
       "⎪                    2                     2                                  \n",
       "⎩               4⋅log (ε) + 9         4⋅log (ε) + 9                           \n",
       "\n",
       " \n",
       "─\n",
       " \n",
       " \n",
       " \n",
       " \n",
       " \n",
       " \n",
       " \n",
       " \n",
       " \n",
       " \n",
       " \n",
       " \n",
       " \n",
       " \n",
       " "
      ]
     },
     "execution_count": 30,
     "metadata": {},
     "output_type": "execute_result"
    }
   ],
   "source": [
    "integrate(f,x)"
   ]
  },
  {
   "cell_type": "markdown",
   "metadata": {},
   "source": [
    "#### 3. Вычислить определенный интеграл\n",
    "$$\n",
    "\\int\\limits_0^{\\ln2} xe^{-x}\\,dx =\n",
    "\\cfrac{1}{2}\\int e^{-x}dx^2 = -\\cfrac{x^2e^{-x}}{2} \\\\\n",
    "\\\n",
    "\\cfrac{-\\ln2^2 \\cdot e^{-\\ln2}}{2} - 0 = 2\\ln2 +C\n",
    "$$"
   ]
  },
  {
   "cell_type": "code",
   "execution_count": 32,
   "metadata": {},
   "outputs": [
    {
     "data": {
      "image/png": "[encoded data removed]",
      "text/latex": [
       "$\\displaystyle \\epsilon^{- x} x$"
      ],
      "text/plain": [
       " -x  \n",
       "ε  ⋅x"
      ]
     },
     "execution_count": 32,
     "metadata": {},
     "output_type": "execute_result"
    }
   ],
   "source": [
    "f = x*abc.epsilon**(-x)\n",
    "f"
   ]
  },
  {
   "cell_type": "code",
   "execution_count": 33,
   "metadata": {},
   "outputs": [
    {
     "data": {
      "text/latex": [
       "$\\displaystyle \\begin{cases} \\frac{\\epsilon^{- x} \\left(- x \\log{\\left(\\epsilon \\right)} - 1\\right)}{\\log{\\left(\\epsilon \\right)}^{2}} & \\text{for}\\: \\log{\\left(\\epsilon \\right)}^{2} \\neq 0 \\\\\\frac{x^{2}}{2} & \\text{otherwise} \\end{cases}$"
      ],
      "text/plain": [
       "⎧ -x                                 \n",
       "⎪ε  ⋅(-x⋅log(ε) - 1)         2       \n",
       "⎪───────────────────  for log (ε) ≠ 0\n",
       "⎪         2                          \n",
       "⎪      log (ε)                       \n",
       "⎨                                    \n",
       "⎪         2                          \n",
       "⎪        x                           \n",
       "⎪        ──              otherwise   \n",
       "⎪        2                           \n",
       "⎩                                    "
      ]
     },
     "execution_count": 33,
     "metadata": {},
     "output_type": "execute_result"
    }
   ],
   "source": [
    "integrate(f,x)"
   ]
  },
  {
   "cell_type": "markdown",
   "metadata": {},
   "source": [
    "#### 4. Вычислить несобственный интеграл\n",
    "$$\n",
    "\\int\\limits_2^{+\\infty} \\frac{dx}{x^2+x-2} = \n",
    "\\lim_{b \\to +\\infty}\\int\\limits_2^{b} \\frac{1}{(x-1)(x+2)}dx = \\\\\n",
    "\\\n",
    "\\cfrac{1}{3}\\lim_{b \\to +\\infty}(\\log(1-x)-\\log(x+2)) + C = \\\\\n",
    "\\\n",
    "\\cfrac{1}{3}\\lim_{b \\to +\\infty}\n",
    "(\\log(1-b) - \\log(b+2)) - (\\log(1-2) - \\log(2+2)) = \\\\\n",
    "\\\n",
    "\\cfrac{1}{3}\n",
    "\\left( \\log\\cfrac{1-b}{b+2} \\right) - \\left( \\log\\cfrac{1-2}{2+2} \\right) = \\\\\n",
    "\\\n",
    "\\cfrac{1}{3}\n",
    "\\left( \\log\\cfrac{(1-b) \\cdot 4}{b+2} \\right) = \\\\\n",
    "\\\n",
    "\\log \\left( \\cfrac{(1-b)\\cdot4}{(b+2)\\cdot3} \\right) = \\log(-\\infty)\n",
    "$$"
   ]
  },
  {
   "cell_type": "code",
   "execution_count": 25,
   "metadata": {},
   "outputs": [
    {
     "data": {
      "image/png": "[encoded data removed]",
      "text/latex": [
       "$\\displaystyle \\frac{1}{x^{2} + x - 2}$"
      ],
      "text/plain": [
       "    1     \n",
       "──────────\n",
       " 2        \n",
       "x  + x - 2"
      ]
     },
     "execution_count": 25,
     "metadata": {},
     "output_type": "execute_result"
    }
   ],
   "source": [
    "f = 1/(x**2 + x - 2)\n",
    "f"
   ]
  },
  {
   "cell_type": "code",
   "execution_count": 26,
   "metadata": {},
   "outputs": [
    {
     "data": {
      "image/png": "[encoded data removed]",
      "text/latex": [
       "$\\displaystyle \\frac{\\log{\\left(x - 1 \\right)}}{3} - \\frac{\\log{\\left(x + 2 \\right)}}{3}$"
      ],
      "text/plain": [
       "log(x - 1)   log(x + 2)\n",
       "────────── - ──────────\n",
       "    3            3     "
      ]
     },
     "execution_count": 26,
     "metadata": {},
     "output_type": "execute_result"
    }
   ],
   "source": [
    "integrate(f, x)"
   ]
  },
  {
   "cell_type": "markdown",
   "metadata": {},
   "source": [
    "#### 4*. Вычислить несобственный интеграл\n",
    "$$\n",
    "\\int\\limits_0^{1} \\ln x\\,dx = x\\log(x) -x +C = \\\\\n",
    "(\\log{1} -1) - \\log(0) = -1 -(-\\infty) = \\infty -1\n",
    "$$"
   ]
  },
  {
   "cell_type": "code",
   "execution_count": 35,
   "metadata": {},
   "outputs": [
    {
     "data": {
      "image/png": "[encoded data removed]",
      "text/latex": [
       "$\\displaystyle \\log{\\left(x \\right)}$"
      ],
      "text/plain": [
       "log(x)"
      ]
     },
     "execution_count": 35,
     "metadata": {},
     "output_type": "execute_result"
    }
   ],
   "source": [
    "f = ln(x)\n",
    "f"
   ]
  },
  {
   "cell_type": "code",
   "execution_count": 36,
   "metadata": {},
   "outputs": [
    {
     "data": {
      "image/png": "[encoded data removed]",
      "text/latex": [
       "$\\displaystyle x \\log{\\left(x \\right)} - x$"
      ],
      "text/plain": [
       "x⋅log(x) - x"
      ]
     },
     "execution_count": 36,
     "metadata": {},
     "output_type": "execute_result"
    }
   ],
   "source": [
    "integrate(f,x)"
   ]
  },
  {
   "cell_type": "code",
   "execution_count": null,
   "metadata": {},
   "outputs": [],
   "source": []
  }
 ],
 "metadata": {
  "kernelspec": {
   "display_name": "Python 3",
   "language": "python",
   "name": "python3"
  },
  "language_info": {
   "codemirror_mode": {
    "name": "ipython",
    "version": 3
   },
   "file_extension": ".py",
   "mimetype": "text/x-python",
   "name": "python",
   "nbconvert_exporter": "python",
   "pygments_lexer": "ipython3",
   "version": "3.7.4"
  }
 },
 "nbformat": 4,
 "nbformat_minor": 2
}
